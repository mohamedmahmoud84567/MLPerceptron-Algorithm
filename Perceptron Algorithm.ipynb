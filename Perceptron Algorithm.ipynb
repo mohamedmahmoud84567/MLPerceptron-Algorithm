{
 "cells": [
  {
   "cell_type": "code",
   "execution_count": 242,
   "id": "20b284fc",
   "metadata": {},
   "outputs": [
    {
     "name": "stdout",
     "output_type": "stream",
     "text": [
      "Requirement already satisfied: pandas in c:\\users\\elkin\\anaconda3\\lib\\site-packages (2.0.2)\n",
      "Requirement already satisfied: numpy>=1.20.3 in c:\\users\\elkin\\anaconda3\\lib\\site-packages (from pandas) (1.21.5)\n",
      "Requirement already satisfied: pytz>=2020.1 in c:\\users\\elkin\\anaconda3\\lib\\site-packages (from pandas) (2022.1)\n",
      "Requirement already satisfied: python-dateutil>=2.8.2 in c:\\users\\elkin\\anaconda3\\lib\\site-packages (from pandas) (2.8.2)\n",
      "Requirement already satisfied: tzdata>=2022.1 in c:\\users\\elkin\\anaconda3\\lib\\site-packages (from pandas) (2023.3)\n",
      "Requirement already satisfied: six>=1.5 in c:\\users\\elkin\\anaconda3\\lib\\site-packages (from python-dateutil>=2.8.2->pandas) (1.16.0)\n"
     ]
    }
   ],
   "source": [
    "!pip install --upgrade pandas"
   ]
  },
  {
   "cell_type": "code",
   "execution_count": 257,
   "id": "f58b636f",
   "metadata": {},
   "outputs": [],
   "source": [
    "import pandas as pd\n",
    "import numpy as np\n",
    "# Setting the random seed\n",
    "np.random.seed(42)"
   ]
  },
  {
   "cell_type": "code",
   "execution_count": 258,
   "id": "d58cf7c0",
   "metadata": {},
   "outputs": [
    {
     "data": {
      "text/html": [
       "<div>\n",
       "<style scoped>\n",
       "    .dataframe tbody tr th:only-of-type {\n",
       "        vertical-align: middle;\n",
       "    }\n",
       "\n",
       "    .dataframe tbody tr th {\n",
       "        vertical-align: top;\n",
       "    }\n",
       "\n",
       "    .dataframe thead th {\n",
       "        text-align: right;\n",
       "    }\n",
       "</style>\n",
       "<table border=\"1\" class=\"dataframe\">\n",
       "  <thead>\n",
       "    <tr style=\"text-align: right;\">\n",
       "      <th></th>\n",
       "      <th>0</th>\n",
       "      <th>1</th>\n",
       "      <th>2</th>\n",
       "    </tr>\n",
       "  </thead>\n",
       "  <tbody>\n",
       "    <tr>\n",
       "      <th>0</th>\n",
       "      <td>0.78051</td>\n",
       "      <td>-0.063669</td>\n",
       "      <td>1</td>\n",
       "    </tr>\n",
       "    <tr>\n",
       "      <th>1</th>\n",
       "      <td>0.28774</td>\n",
       "      <td>0.291390</td>\n",
       "      <td>1</td>\n",
       "    </tr>\n",
       "    <tr>\n",
       "      <th>2</th>\n",
       "      <td>0.40714</td>\n",
       "      <td>0.178780</td>\n",
       "      <td>1</td>\n",
       "    </tr>\n",
       "    <tr>\n",
       "      <th>3</th>\n",
       "      <td>0.29230</td>\n",
       "      <td>0.421700</td>\n",
       "      <td>1</td>\n",
       "    </tr>\n",
       "    <tr>\n",
       "      <th>4</th>\n",
       "      <td>0.50922</td>\n",
       "      <td>0.352560</td>\n",
       "      <td>1</td>\n",
       "    </tr>\n",
       "  </tbody>\n",
       "</table>\n",
       "</div>"
      ],
      "text/plain": [
       "         0         1  2\n",
       "0  0.78051 -0.063669  1\n",
       "1  0.28774  0.291390  1\n",
       "2  0.40714  0.178780  1\n",
       "3  0.29230  0.421700  1\n",
       "4  0.50922  0.352560  1"
      ]
     },
     "execution_count": 258,
     "metadata": {},
     "output_type": "execute_result"
    }
   ],
   "source": [
    "# Read our data from csv file\n",
    "data=pd.read_csv('dataper.csv',header=None)\n",
    "data.head()"
   ]
  },
  {
   "cell_type": "code",
   "execution_count": 259,
   "id": "df4dde14",
   "metadata": {},
   "outputs": [],
   "source": [
    "# Create dataset from Pandas dataframe\n",
    "X=data.loc[:,0:1]\n",
    "y=data.loc[:,2]"
   ]
  },
  {
   "cell_type": "code",
   "execution_count": 260,
   "id": "429f41ee",
   "metadata": {},
   "outputs": [],
   "source": [
    "# Convert dataset to Numpy\n",
    "X=X.to_numpy()\n",
    "y=y.to_numpy()"
   ]
  },
  {
   "cell_type": "code",
   "execution_count": 271,
   "id": "3363a35d",
   "metadata": {},
   "outputs": [],
   "source": [
    "# Helper functions to make a prediction\n",
    "def stepFunction(t):\n",
    "    if t >=0:\n",
    "        return 1\n",
    "    return 0\n",
    "def prediction(X,W,b):\n",
    "    return stepFunction((np.matmul(X,W))+b)"
   ]
  },
  {
   "cell_type": "code",
   "execution_count": 287,
   "id": "2dfad346",
   "metadata": {},
   "outputs": [],
   "source": [
    "# This function receives as inputs the data X, the labels y,\n",
    "# the weights W (as an array), and the bias b,\n",
    "# and updates the weights and bias W, b, according to the perceptron algorithm,\n",
    "# and returns W and b.\n",
    "def perceptronStep(X,y,W,b,learn_rate=0.01):\n",
    "    pass\n",
    "    for i in range(len(X)):\n",
    "        y_hat=prediction(X[i],W,b)\n",
    "        if y[i]-y_hat==1:\n",
    "            W[0]+=X[i][0]*learn_rate\n",
    "            W[1]+=X[i][1]*learn_rate\n",
    "            b+=b*learn_rate\n",
    "        elif y[i]-y_hat==-1:\n",
    "            W[0]-=X[i][0]*learn_rate\n",
    "            W[1]-=X[i][1]*learn_rate\n",
    "            b-=b*learn_rate\n",
    "    return W,b        "
   ]
  },
  {
   "cell_type": "code",
   "execution_count": 288,
   "id": "ee96e388",
   "metadata": {},
   "outputs": [],
   "source": [
    "# This function runs the perceptron algorithm repeatedly on the dataset,\n",
    "def trainPerceptronAlgorithm(X,y,learn_rate=0.01,num_epochs=25):\n",
    "    W=np.array(np.random.rand(2,1))\n",
    "    b=np.random.rand(1)[0]\n",
    "    for i in range(num_epochs):\n",
    "        W,b=perceptronStep(X,y,W,b,learn_rate)\n",
    "        print(f\"Training epoch: #{i+1}\")\n",
    "        print(f\"Weight: {W}\")\n",
    "        print(f\"bias: {b}\")\n",
    "    return W,b    \n",
    "        "
   ]
  },
  {
   "cell_type": "code",
   "execution_count": 302,
   "id": "ee411d0f",
   "metadata": {},
   "outputs": [
    {
     "name": "stdout",
     "output_type": "stream",
     "text": [
      "Training epoch: #1\n",
      "Weight: [[0.27030977]\n",
      " [0.06272157]]\n",
      "bias: 0.650846305816652\n",
      "Training epoch: #2\n",
      "Weight: [[0.23600577]\n",
      " [0.02777103]]\n",
      "bias: 0.6190886691840454\n",
      "Training epoch: #3\n",
      "Weight: [[ 0.20170177]\n",
      " [-0.00717951]]\n",
      "bias: 0.5888806264808739\n",
      "Training epoch: #4\n",
      "Weight: [[ 0.16739777]\n",
      " [-0.04213005]]\n",
      "bias: 0.5601465662448012\n",
      "Training epoch: #5\n",
      "Weight: [[ 0.13309377]\n",
      " [-0.07708059]]\n",
      "bias: 0.532814566427296\n",
      "Training epoch: #6\n",
      "Weight: [[ 0.09878977]\n",
      " [-0.11203113]]\n",
      "bias: 0.506816214371005\n",
      "Training epoch: #7\n",
      "Weight: [[ 0.06448577]\n",
      " [-0.14698167]]\n",
      "bias: 0.4820864355712133\n",
      "Training epoch: #8\n",
      "Weight: [[ 0.03018177]\n",
      " [-0.18193221]]\n",
      "bias: 0.4585633307927836\n",
      "Training epoch: #9\n",
      "Weight: [[-0.00412223]\n",
      " [-0.21688275]]\n",
      "bias: 0.4361880211348727\n",
      "Training epoch: #10\n",
      "Weight: [[-0.03842623]\n",
      " [-0.25183329]]\n",
      "bias: 0.41490450065561674\n"
     ]
    },
    {
     "data": {
      "text/plain": [
       "(array([[-0.03842623],\n",
       "        [-0.25183329]]),\n",
       " 0.41490450065561674)"
      ]
     },
     "execution_count": 302,
     "metadata": {},
     "output_type": "execute_result"
    }
   ],
   "source": [
    "# Feel free to play with the learning rate and the num_epochs,\n",
    "# and see your results plotted below.\n",
    "model_train=trainPerceptronAlgorithm(X,y,learn_rate=0.001,num_epochs=10)\n",
    "model_train"
   ]
  },
  {
   "cell_type": "code",
   "execution_count": 303,
   "id": "c19dd275",
   "metadata": {},
   "outputs": [
    {
     "name": "stdout",
     "output_type": "stream",
     "text": [
      "weight: [[-0.03842623]\n",
      " [-0.25183329]]\n",
      "bias: 0.41490450065561674\n"
     ]
    }
   ],
   "source": [
    "final_model = model_train\n",
    "weight, bias = final_model\n",
    "\n",
    "print(f\"weight: {weight}\")\n",
    "print(f\"bias: {bias}\")"
   ]
  },
  {
   "cell_type": "code",
   "execution_count": 304,
   "id": "fa42d92e",
   "metadata": {},
   "outputs": [
    {
     "data": {
      "text/plain": [
       "1"
      ]
     },
     "execution_count": 304,
     "metadata": {},
     "output_type": "execute_result"
    }
   ],
   "source": [
    "prediction(X=[-1, 0.5], W=weight, b=bias)"
   ]
  },
  {
   "cell_type": "code",
   "execution_count": null,
   "id": "fe5eebdd",
   "metadata": {},
   "outputs": [],
   "source": []
  }
 ],
 "metadata": {
  "kernelspec": {
   "display_name": "Python 3 (ipykernel)",
   "language": "python",
   "name": "python3"
  },
  "language_info": {
   "codemirror_mode": {
    "name": "ipython",
    "version": 3
   },
   "file_extension": ".py",
   "mimetype": "text/x-python",
   "name": "python",
   "nbconvert_exporter": "python",
   "pygments_lexer": "ipython3",
   "version": "3.9.7"
  }
 },
 "nbformat": 4,
 "nbformat_minor": 5
}
